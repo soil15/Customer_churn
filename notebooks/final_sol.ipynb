{
 "cells": [
  {
   "cell_type": "markdown",
   "metadata": {},
   "source": [
    "1. We will be using tree based models. (Since the dataset is imbalanced)\n",
    "2. Aim would be to create a model with low type-II error.\n",
    "3. We will try out different feature selection techniques and compare their performance.\n",
    "4. we will use hyperparameter tunning to improve model performance furthur."
   ]
  },
  {
   "cell_type": "code",
   "execution_count": 781,
   "metadata": {},
   "outputs": [],
   "source": [
    "import pandas as pd\n",
    "import numpy as np\n",
    "import matplotlib.pyplot as plt\n",
    "import seaborn as sns"
   ]
  },
  {
   "cell_type": "code",
   "execution_count": 782,
   "metadata": {},
   "outputs": [],
   "source": [
    "feature_selection = {\n",
    "    'Technique' : list(),\n",
    "    'data'      : list()\n",
    "}"
   ]
  },
  {
   "cell_type": "code",
   "execution_count": 783,
   "metadata": {},
   "outputs": [
    {
     "data": {
      "text/html": [
       "<div>\n",
       "<style scoped>\n",
       "    .dataframe tbody tr th:only-of-type {\n",
       "        vertical-align: middle;\n",
       "    }\n",
       "\n",
       "    .dataframe tbody tr th {\n",
       "        vertical-align: top;\n",
       "    }\n",
       "\n",
       "    .dataframe thead th {\n",
       "        text-align: right;\n",
       "    }\n",
       "</style>\n",
       "<table border=\"1\" class=\"dataframe\">\n",
       "  <thead>\n",
       "    <tr style=\"text-align: right;\">\n",
       "      <th></th>\n",
       "      <th>state</th>\n",
       "      <th>account_length</th>\n",
       "      <th>area_code</th>\n",
       "      <th>international_plan</th>\n",
       "      <th>voice_mail_plan</th>\n",
       "      <th>number_vmail_messages</th>\n",
       "      <th>total_day_minutes</th>\n",
       "      <th>total_day_calls</th>\n",
       "      <th>total_day_charge</th>\n",
       "      <th>total_eve_minutes</th>\n",
       "      <th>total_eve_calls</th>\n",
       "      <th>total_eve_charge</th>\n",
       "      <th>total_night_minutes</th>\n",
       "      <th>total_night_calls</th>\n",
       "      <th>total_night_charge</th>\n",
       "      <th>total_intl_minutes</th>\n",
       "      <th>total_intl_calls</th>\n",
       "      <th>total_intl_charge</th>\n",
       "      <th>number_customer_service_calls</th>\n",
       "      <th>churn</th>\n",
       "    </tr>\n",
       "  </thead>\n",
       "  <tbody>\n",
       "    <tr>\n",
       "      <th>0</th>\n",
       "      <td>OH</td>\n",
       "      <td>107</td>\n",
       "      <td>area_code_415</td>\n",
       "      <td>no</td>\n",
       "      <td>yes</td>\n",
       "      <td>26</td>\n",
       "      <td>161.6</td>\n",
       "      <td>123</td>\n",
       "      <td>27.47</td>\n",
       "      <td>195.5</td>\n",
       "      <td>103</td>\n",
       "      <td>16.62</td>\n",
       "      <td>254.4</td>\n",
       "      <td>103</td>\n",
       "      <td>11.45</td>\n",
       "      <td>13.7</td>\n",
       "      <td>3</td>\n",
       "      <td>3.70</td>\n",
       "      <td>1</td>\n",
       "      <td>no</td>\n",
       "    </tr>\n",
       "    <tr>\n",
       "      <th>1</th>\n",
       "      <td>NJ</td>\n",
       "      <td>137</td>\n",
       "      <td>area_code_415</td>\n",
       "      <td>no</td>\n",
       "      <td>no</td>\n",
       "      <td>0</td>\n",
       "      <td>243.4</td>\n",
       "      <td>114</td>\n",
       "      <td>41.38</td>\n",
       "      <td>121.2</td>\n",
       "      <td>110</td>\n",
       "      <td>10.30</td>\n",
       "      <td>162.6</td>\n",
       "      <td>104</td>\n",
       "      <td>7.32</td>\n",
       "      <td>12.2</td>\n",
       "      <td>5</td>\n",
       "      <td>3.29</td>\n",
       "      <td>0</td>\n",
       "      <td>no</td>\n",
       "    </tr>\n",
       "    <tr>\n",
       "      <th>2</th>\n",
       "      <td>OH</td>\n",
       "      <td>84</td>\n",
       "      <td>area_code_408</td>\n",
       "      <td>yes</td>\n",
       "      <td>no</td>\n",
       "      <td>0</td>\n",
       "      <td>299.4</td>\n",
       "      <td>71</td>\n",
       "      <td>50.90</td>\n",
       "      <td>61.9</td>\n",
       "      <td>88</td>\n",
       "      <td>5.26</td>\n",
       "      <td>196.9</td>\n",
       "      <td>89</td>\n",
       "      <td>8.86</td>\n",
       "      <td>6.6</td>\n",
       "      <td>7</td>\n",
       "      <td>1.78</td>\n",
       "      <td>2</td>\n",
       "      <td>no</td>\n",
       "    </tr>\n",
       "    <tr>\n",
       "      <th>3</th>\n",
       "      <td>OK</td>\n",
       "      <td>75</td>\n",
       "      <td>area_code_415</td>\n",
       "      <td>yes</td>\n",
       "      <td>no</td>\n",
       "      <td>0</td>\n",
       "      <td>166.7</td>\n",
       "      <td>113</td>\n",
       "      <td>28.34</td>\n",
       "      <td>148.3</td>\n",
       "      <td>122</td>\n",
       "      <td>12.61</td>\n",
       "      <td>186.9</td>\n",
       "      <td>121</td>\n",
       "      <td>8.41</td>\n",
       "      <td>10.1</td>\n",
       "      <td>3</td>\n",
       "      <td>2.73</td>\n",
       "      <td>3</td>\n",
       "      <td>no</td>\n",
       "    </tr>\n",
       "    <tr>\n",
       "      <th>4</th>\n",
       "      <td>MA</td>\n",
       "      <td>121</td>\n",
       "      <td>area_code_510</td>\n",
       "      <td>no</td>\n",
       "      <td>yes</td>\n",
       "      <td>24</td>\n",
       "      <td>218.2</td>\n",
       "      <td>88</td>\n",
       "      <td>37.09</td>\n",
       "      <td>348.5</td>\n",
       "      <td>108</td>\n",
       "      <td>29.62</td>\n",
       "      <td>212.6</td>\n",
       "      <td>118</td>\n",
       "      <td>9.57</td>\n",
       "      <td>7.5</td>\n",
       "      <td>7</td>\n",
       "      <td>2.03</td>\n",
       "      <td>3</td>\n",
       "      <td>no</td>\n",
       "    </tr>\n",
       "  </tbody>\n",
       "</table>\n",
       "</div>"
      ],
      "text/plain": [
       "  state  account_length      area_code international_plan voice_mail_plan  \\\n",
       "0    OH             107  area_code_415                 no             yes   \n",
       "1    NJ             137  area_code_415                 no              no   \n",
       "2    OH              84  area_code_408                yes              no   \n",
       "3    OK              75  area_code_415                yes              no   \n",
       "4    MA             121  area_code_510                 no             yes   \n",
       "\n",
       "   number_vmail_messages  total_day_minutes  total_day_calls  \\\n",
       "0                     26              161.6              123   \n",
       "1                      0              243.4              114   \n",
       "2                      0              299.4               71   \n",
       "3                      0              166.7              113   \n",
       "4                     24              218.2               88   \n",
       "\n",
       "   total_day_charge  total_eve_minutes  total_eve_calls  total_eve_charge  \\\n",
       "0             27.47              195.5              103             16.62   \n",
       "1             41.38              121.2              110             10.30   \n",
       "2             50.90               61.9               88              5.26   \n",
       "3             28.34              148.3              122             12.61   \n",
       "4             37.09              348.5              108             29.62   \n",
       "\n",
       "   total_night_minutes  total_night_calls  total_night_charge  \\\n",
       "0                254.4                103               11.45   \n",
       "1                162.6                104                7.32   \n",
       "2                196.9                 89                8.86   \n",
       "3                186.9                121                8.41   \n",
       "4                212.6                118                9.57   \n",
       "\n",
       "   total_intl_minutes  total_intl_calls  total_intl_charge  \\\n",
       "0                13.7                 3               3.70   \n",
       "1                12.2                 5               3.29   \n",
       "2                 6.6                 7               1.78   \n",
       "3                10.1                 3               2.73   \n",
       "4                 7.5                 7               2.03   \n",
       "\n",
       "   number_customer_service_calls churn  \n",
       "0                              1    no  \n",
       "1                              0    no  \n",
       "2                              2    no  \n",
       "3                              3    no  \n",
       "4                              3    no  "
      ]
     },
     "execution_count": 783,
     "metadata": {},
     "output_type": "execute_result"
    }
   ],
   "source": [
    "df = pd.read_csv('../data/raw_data.csv')\n",
    "\n",
    "df.drop('Unnamed: 0', axis=1, inplace=True)\n",
    "df.dropna(inplace=True)\n",
    "df.head()"
   ]
  },
  {
   "cell_type": "code",
   "execution_count": 784,
   "metadata": {},
   "outputs": [
    {
     "data": {
      "text/plain": [
       "(4250, 20)"
      ]
     },
     "execution_count": 784,
     "metadata": {},
     "output_type": "execute_result"
    }
   ],
   "source": [
    "df.shape"
   ]
  },
  {
   "cell_type": "markdown",
   "metadata": {},
   "source": [
    "#### Feature selection techiniques \n",
    "    1. PCA and chi_square\n",
    "    2. Fisher score\n",
    "    3. Random forest importance"
   ]
  },
  {
   "cell_type": "code",
   "execution_count": 785,
   "metadata": {},
   "outputs": [],
   "source": [
    "num_cols = [col for col in df.columns if df[col].dtypes != 'object']\n",
    "cat_cols = [col for col in df.columns if ( df[col].dtypes == 'object' and col != 'churn' ) ]"
   ]
  },
  {
   "cell_type": "code",
   "execution_count": 786,
   "metadata": {},
   "outputs": [
    {
     "data": {
      "text/plain": [
       "(['state', 'area_code', 'international_plan', 'voice_mail_plan'],\n",
       " ['account_length',\n",
       "  'number_vmail_messages',\n",
       "  'total_day_minutes',\n",
       "  'total_day_calls',\n",
       "  'total_day_charge',\n",
       "  'total_eve_minutes',\n",
       "  'total_eve_calls',\n",
       "  'total_eve_charge',\n",
       "  'total_night_minutes',\n",
       "  'total_night_calls',\n",
       "  'total_night_charge',\n",
       "  'total_intl_minutes',\n",
       "  'total_intl_calls',\n",
       "  'total_intl_charge',\n",
       "  'number_customer_service_calls'])"
      ]
     },
     "execution_count": 786,
     "metadata": {},
     "output_type": "execute_result"
    }
   ],
   "source": [
    "cat_cols, num_cols"
   ]
  },
  {
   "cell_type": "code",
   "execution_count": 787,
   "metadata": {},
   "outputs": [],
   "source": [
    "num_df = df[num_cols]"
   ]
  },
  {
   "cell_type": "code",
   "execution_count": 788,
   "metadata": {},
   "outputs": [],
   "source": [
    "from sklearn.preprocessing import StandardScaler\n",
    "from sklearn.decomposition import PCA"
   ]
  },
  {
   "cell_type": "code",
   "execution_count": 789,
   "metadata": {},
   "outputs": [],
   "source": [
    "std_scalar = StandardScaler()\n",
    "num_df = std_scalar.fit_transform(num_df)"
   ]
  },
  {
   "cell_type": "code",
   "execution_count": 790,
   "metadata": {},
   "outputs": [],
   "source": [
    "pca = PCA()\n",
    "\n",
    "num_df = pca.fit_transform(num_df)\n",
    "\n",
    "num_df = pd.DataFrame(data=num_df)"
   ]
  },
  {
   "cell_type": "code",
   "execution_count": 791,
   "metadata": {},
   "outputs": [
    {
     "data": {
      "text/plain": [
       "array([1.37360294e-01, 1.34779222e-01, 1.31804605e-01, 1.29866408e-01,\n",
       "       6.92152057e-02, 6.82530560e-02, 6.72887752e-02, 6.62161372e-02,\n",
       "       6.54312241e-02, 6.53725059e-02, 6.44120040e-02, 4.90337267e-07,\n",
       "       5.31571224e-08, 1.51577275e-08, 3.20417659e-09])"
      ]
     },
     "execution_count": 791,
     "metadata": {},
     "output_type": "execute_result"
    }
   ],
   "source": [
    "pca.explained_variance_ratio_"
   ]
  },
  {
   "cell_type": "code",
   "execution_count": 792,
   "metadata": {},
   "outputs": [
    {
     "data": {
      "text/plain": [
       "array([0.13736029, 0.27213952, 0.40394412, 0.53381053, 0.60302574,\n",
       "       0.67127879, 0.73856757, 0.8047837 , 0.87021493, 0.93558743,\n",
       "       0.99999944, 0.99999993, 0.99999998, 1.        , 1.        ])"
      ]
     },
     "execution_count": 792,
     "metadata": {},
     "output_type": "execute_result"
    }
   ],
   "source": [
    "np.cumsum(pca.explained_variance_ratio_)"
   ]
  },
  {
   "cell_type": "code",
   "execution_count": 793,
   "metadata": {},
   "outputs": [
    {
     "data": {
      "text/plain": [
       "[<matplotlib.lines.Line2D at 0x20712c19250>]"
      ]
     },
     "execution_count": 793,
     "metadata": {},
     "output_type": "execute_result"
    },
    {
     "data": {
      "image/png": "[encoded data removed]",
      "text/plain": [
       "<Figure size 640x480 with 1 Axes>"
      ]
     },
     "metadata": {},
     "output_type": "display_data"
    }
   ],
   "source": [
    "plt.plot(np.cumsum(pca.explained_variance_ratio_))"
   ]
  },
  {
   "cell_type": "markdown",
   "metadata": {},
   "source": [
    "<p> As we can see after 10th feature there is not any significant increase in variance ratio, we can drop last 4 columns </p>"
   ]
  },
  {
   "cell_type": "code",
   "execution_count": 794,
   "metadata": {},
   "outputs": [
    {
     "data": {
      "text/plain": [
       "(4250, 11)"
      ]
     },
     "execution_count": 794,
     "metadata": {},
     "output_type": "execute_result"
    }
   ],
   "source": [
    "pca_df = num_df.iloc[:, 0:11]\n",
    "pca_df.shape"
   ]
  },
  {
   "cell_type": "code",
   "execution_count": 795,
   "metadata": {},
   "outputs": [],
   "source": [
    "from sklearn.feature_selection import SelectKBest\n",
    "from sklearn.feature_selection import chi2\n",
    "from sklearn.preprocessing import LabelEncoder\n",
    "import category_encoders as ce"
   ]
  },
  {
   "cell_type": "code",
   "execution_count": 796,
   "metadata": {},
   "outputs": [],
   "source": [
    "label_encoder = LabelEncoder()\n",
    "\n",
    "df['international_plan'] = label_encoder.fit_transform(df['international_plan'])\n",
    "\n",
    "df['voice_mail_plan'] = label_encoder.fit_transform(df['voice_mail_plan'])\n",
    "\n",
    "df['churn'] = label_encoder.fit_transform(df['churn'])\n",
    "\n",
    "df['area_code'] = label_encoder.fit_transform(df['area_code'])"
   ]
  },
  {
   "cell_type": "code",
   "execution_count": 797,
   "metadata": {},
   "outputs": [],
   "source": [
    "target_encoder = ce.TargetEncoder()\n",
    "\n",
    "df['state'] = target_encoder.fit_transform(X=df['state'], y=df['churn'])"
   ]
  },
  {
   "cell_type": "code",
   "execution_count": 798,
   "metadata": {},
   "outputs": [],
   "source": [
    "chi_df = df[cat_cols]"
   ]
  },
  {
   "cell_type": "code",
   "execution_count": 799,
   "metadata": {},
   "outputs": [],
   "source": [
    "chi2_features = SelectKBest(chi2, k=3)\n",
    "\n",
    "chi_df = pd.DataFrame(data=chi2_features.fit_transform(chi_df, df['churn']))"
   ]
  },
  {
   "cell_type": "code",
   "execution_count": 800,
   "metadata": {},
   "outputs": [
    {
     "data": {
      "text/html": [
       "<div>\n",
       "<style scoped>\n",
       "    .dataframe tbody tr th:only-of-type {\n",
       "        vertical-align: middle;\n",
       "    }\n",
       "\n",
       "    .dataframe tbody tr th {\n",
       "        vertical-align: top;\n",
       "    }\n",
       "\n",
       "    .dataframe thead th {\n",
       "        text-align: right;\n",
       "    }\n",
       "</style>\n",
       "<table border=\"1\" class=\"dataframe\">\n",
       "  <thead>\n",
       "    <tr style=\"text-align: right;\">\n",
       "      <th></th>\n",
       "      <th>0</th>\n",
       "      <th>1</th>\n",
       "      <th>2</th>\n",
       "    </tr>\n",
       "  </thead>\n",
       "  <tbody>\n",
       "    <tr>\n",
       "      <th>0</th>\n",
       "      <td>0.126324</td>\n",
       "      <td>0.0</td>\n",
       "      <td>1.0</td>\n",
       "    </tr>\n",
       "    <tr>\n",
       "      <th>1</th>\n",
       "      <td>0.270768</td>\n",
       "      <td>0.0</td>\n",
       "      <td>0.0</td>\n",
       "    </tr>\n",
       "    <tr>\n",
       "      <th>2</th>\n",
       "      <td>0.126324</td>\n",
       "      <td>1.0</td>\n",
       "      <td>0.0</td>\n",
       "    </tr>\n",
       "    <tr>\n",
       "      <th>3</th>\n",
       "      <td>0.204934</td>\n",
       "      <td>1.0</td>\n",
       "      <td>0.0</td>\n",
       "    </tr>\n",
       "    <tr>\n",
       "      <th>4</th>\n",
       "      <td>0.157287</td>\n",
       "      <td>0.0</td>\n",
       "      <td>1.0</td>\n",
       "    </tr>\n",
       "  </tbody>\n",
       "</table>\n",
       "</div>"
      ],
      "text/plain": [
       "          0    1    2\n",
       "0  0.126324  0.0  1.0\n",
       "1  0.270768  0.0  0.0\n",
       "2  0.126324  1.0  0.0\n",
       "3  0.204934  1.0  0.0\n",
       "4  0.157287  0.0  1.0"
      ]
     },
     "execution_count": 800,
     "metadata": {},
     "output_type": "execute_result"
    }
   ],
   "source": [
    "chi_df.head()"
   ]
  },
  {
   "cell_type": "code",
   "execution_count": 801,
   "metadata": {},
   "outputs": [
    {
     "data": {
      "text/plain": [
       "RangeIndex(start=0, stop=3, step=1)"
      ]
     },
     "execution_count": 801,
     "metadata": {},
     "output_type": "execute_result"
    }
   ],
   "source": [
    "chi_df.columns"
   ]
  },
  {
   "cell_type": "code",
   "execution_count": 802,
   "metadata": {},
   "outputs": [
    {
     "data": {
      "text/html": [
       "<div>\n",
       "<style scoped>\n",
       "    .dataframe tbody tr th:only-of-type {\n",
       "        vertical-align: middle;\n",
       "    }\n",
       "\n",
       "    .dataframe tbody tr th {\n",
       "        vertical-align: top;\n",
       "    }\n",
       "\n",
       "    .dataframe thead th {\n",
       "        text-align: right;\n",
       "    }\n",
       "</style>\n",
       "<table border=\"1\" class=\"dataframe\">\n",
       "  <thead>\n",
       "    <tr style=\"text-align: right;\">\n",
       "      <th></th>\n",
       "      <th>11</th>\n",
       "      <th>12</th>\n",
       "      <th>13</th>\n",
       "    </tr>\n",
       "  </thead>\n",
       "  <tbody>\n",
       "    <tr>\n",
       "      <th>0</th>\n",
       "      <td>0.126324</td>\n",
       "      <td>0.0</td>\n",
       "      <td>1.0</td>\n",
       "    </tr>\n",
       "    <tr>\n",
       "      <th>1</th>\n",
       "      <td>0.270768</td>\n",
       "      <td>0.0</td>\n",
       "      <td>0.0</td>\n",
       "    </tr>\n",
       "    <tr>\n",
       "      <th>2</th>\n",
       "      <td>0.126324</td>\n",
       "      <td>1.0</td>\n",
       "      <td>0.0</td>\n",
       "    </tr>\n",
       "    <tr>\n",
       "      <th>3</th>\n",
       "      <td>0.204934</td>\n",
       "      <td>1.0</td>\n",
       "      <td>0.0</td>\n",
       "    </tr>\n",
       "    <tr>\n",
       "      <th>4</th>\n",
       "      <td>0.157287</td>\n",
       "      <td>0.0</td>\n",
       "      <td>1.0</td>\n",
       "    </tr>\n",
       "    <tr>\n",
       "      <th>...</th>\n",
       "      <td>...</td>\n",
       "      <td>...</td>\n",
       "      <td>...</td>\n",
       "    </tr>\n",
       "    <tr>\n",
       "      <th>4245</th>\n",
       "      <td>0.212322</td>\n",
       "      <td>0.0</td>\n",
       "      <td>0.0</td>\n",
       "    </tr>\n",
       "    <tr>\n",
       "      <th>4246</th>\n",
       "      <td>0.136691</td>\n",
       "      <td>0.0</td>\n",
       "      <td>0.0</td>\n",
       "    </tr>\n",
       "    <tr>\n",
       "      <th>4247</th>\n",
       "      <td>0.087632</td>\n",
       "      <td>0.0</td>\n",
       "      <td>0.0</td>\n",
       "    </tr>\n",
       "    <tr>\n",
       "      <th>4248</th>\n",
       "      <td>0.052244</td>\n",
       "      <td>0.0</td>\n",
       "      <td>1.0</td>\n",
       "    </tr>\n",
       "    <tr>\n",
       "      <th>4249</th>\n",
       "      <td>0.116312</td>\n",
       "      <td>0.0</td>\n",
       "      <td>1.0</td>\n",
       "    </tr>\n",
       "  </tbody>\n",
       "</table>\n",
       "<p>4250 rows × 3 columns</p>\n",
       "</div>"
      ],
      "text/plain": [
       "            11   12   13\n",
       "0     0.126324  0.0  1.0\n",
       "1     0.270768  0.0  0.0\n",
       "2     0.126324  1.0  0.0\n",
       "3     0.204934  1.0  0.0\n",
       "4     0.157287  0.0  1.0\n",
       "...        ...  ...  ...\n",
       "4245  0.212322  0.0  0.0\n",
       "4246  0.136691  0.0  0.0\n",
       "4247  0.087632  0.0  0.0\n",
       "4248  0.052244  0.0  1.0\n",
       "4249  0.116312  0.0  1.0\n",
       "\n",
       "[4250 rows x 3 columns]"
      ]
     },
     "execution_count": 802,
     "metadata": {},
     "output_type": "execute_result"
    }
   ],
   "source": [
    "chi_df.rename(columns={0 : 11, 1 : 12, 2 : 13}, inplace=True)\n",
    "\n",
    "chi_df"
   ]
  },
  {
   "cell_type": "code",
   "execution_count": 803,
   "metadata": {},
   "outputs": [],
   "source": [
    "pca_chi_df = pd.concat([pca_df, chi_df, df['churn']], axis=1)"
   ]
  },
  {
   "cell_type": "code",
   "execution_count": 804,
   "metadata": {},
   "outputs": [
    {
     "data": {
      "text/plain": [
       "(4250, 15)"
      ]
     },
     "execution_count": 804,
     "metadata": {},
     "output_type": "execute_result"
    }
   ],
   "source": [
    "pca_chi_df.shape"
   ]
  },
  {
   "cell_type": "code",
   "execution_count": 805,
   "metadata": {},
   "outputs": [
    {
     "data": {
      "text/html": [
       "<div>\n",
       "<style scoped>\n",
       "    .dataframe tbody tr th:only-of-type {\n",
       "        vertical-align: middle;\n",
       "    }\n",
       "\n",
       "    .dataframe tbody tr th {\n",
       "        vertical-align: top;\n",
       "    }\n",
       "\n",
       "    .dataframe thead th {\n",
       "        text-align: right;\n",
       "    }\n",
       "</style>\n",
       "<table border=\"1\" class=\"dataframe\">\n",
       "  <thead>\n",
       "    <tr style=\"text-align: right;\">\n",
       "      <th></th>\n",
       "      <th>0</th>\n",
       "      <th>1</th>\n",
       "      <th>2</th>\n",
       "      <th>3</th>\n",
       "      <th>4</th>\n",
       "      <th>5</th>\n",
       "      <th>6</th>\n",
       "      <th>7</th>\n",
       "      <th>8</th>\n",
       "      <th>9</th>\n",
       "      <th>10</th>\n",
       "      <th>11</th>\n",
       "      <th>12</th>\n",
       "      <th>13</th>\n",
       "      <th>churn</th>\n",
       "    </tr>\n",
       "  </thead>\n",
       "  <tbody>\n",
       "    <tr>\n",
       "      <th>0</th>\n",
       "      <td>-0.323532</td>\n",
       "      <td>-2.114335</td>\n",
       "      <td>0.997691</td>\n",
       "      <td>-0.595870</td>\n",
       "      <td>0.716353</td>\n",
       "      <td>-0.385573</td>\n",
       "      <td>-0.486884</td>\n",
       "      <td>-0.768171</td>\n",
       "      <td>0.624777</td>\n",
       "      <td>-1.156578</td>\n",
       "      <td>0.578314</td>\n",
       "      <td>0.126324</td>\n",
       "      <td>0.0</td>\n",
       "      <td>1.0</td>\n",
       "      <td>0</td>\n",
       "    </tr>\n",
       "    <tr>\n",
       "      <th>1</th>\n",
       "      <td>1.152404</td>\n",
       "      <td>-0.908546</td>\n",
       "      <td>-2.582522</td>\n",
       "      <td>-0.991371</td>\n",
       "      <td>1.485336</td>\n",
       "      <td>0.042210</td>\n",
       "      <td>0.333017</td>\n",
       "      <td>-0.108044</td>\n",
       "      <td>-0.548141</td>\n",
       "      <td>-0.477670</td>\n",
       "      <td>-0.753473</td>\n",
       "      <td>0.270768</td>\n",
       "      <td>0.0</td>\n",
       "      <td>0.0</td>\n",
       "      <td>0</td>\n",
       "    </tr>\n",
       "    <tr>\n",
       "      <th>2</th>\n",
       "      <td>4.487852</td>\n",
       "      <td>0.084481</td>\n",
       "      <td>-2.868648</td>\n",
       "      <td>0.415481</td>\n",
       "      <td>-0.714418</td>\n",
       "      <td>-0.322802</td>\n",
       "      <td>-0.042247</td>\n",
       "      <td>0.628538</td>\n",
       "      <td>-0.157387</td>\n",
       "      <td>1.792099</td>\n",
       "      <td>-0.312051</td>\n",
       "      <td>0.126324</td>\n",
       "      <td>1.0</td>\n",
       "      <td>0.0</td>\n",
       "      <td>0</td>\n",
       "    </tr>\n",
       "    <tr>\n",
       "      <th>3</th>\n",
       "      <td>0.323781</td>\n",
       "      <td>-0.588118</td>\n",
       "      <td>-1.078581</td>\n",
       "      <td>0.874012</td>\n",
       "      <td>-0.503538</td>\n",
       "      <td>0.754610</td>\n",
       "      <td>0.255352</td>\n",
       "      <td>0.696681</td>\n",
       "      <td>-0.970436</td>\n",
       "      <td>-1.302649</td>\n",
       "      <td>1.017095</td>\n",
       "      <td>0.204934</td>\n",
       "      <td>1.0</td>\n",
       "      <td>0.0</td>\n",
       "      <td>0</td>\n",
       "    </tr>\n",
       "    <tr>\n",
       "      <th>4</th>\n",
       "      <td>-0.491747</td>\n",
       "      <td>3.185081</td>\n",
       "      <td>2.858775</td>\n",
       "      <td>-1.451932</td>\n",
       "      <td>0.079653</td>\n",
       "      <td>-0.305771</td>\n",
       "      <td>-0.657684</td>\n",
       "      <td>1.836406</td>\n",
       "      <td>0.982945</td>\n",
       "      <td>0.010437</td>\n",
       "      <td>0.600872</td>\n",
       "      <td>0.157287</td>\n",
       "      <td>0.0</td>\n",
       "      <td>1.0</td>\n",
       "      <td>0</td>\n",
       "    </tr>\n",
       "  </tbody>\n",
       "</table>\n",
       "</div>"
      ],
      "text/plain": [
       "          0         1         2         3         4         5         6  \\\n",
       "0 -0.323532 -2.114335  0.997691 -0.595870  0.716353 -0.385573 -0.486884   \n",
       "1  1.152404 -0.908546 -2.582522 -0.991371  1.485336  0.042210  0.333017   \n",
       "2  4.487852  0.084481 -2.868648  0.415481 -0.714418 -0.322802 -0.042247   \n",
       "3  0.323781 -0.588118 -1.078581  0.874012 -0.503538  0.754610  0.255352   \n",
       "4 -0.491747  3.185081  2.858775 -1.451932  0.079653 -0.305771 -0.657684   \n",
       "\n",
       "          7         8         9        10        11   12   13  churn  \n",
       "0 -0.768171  0.624777 -1.156578  0.578314  0.126324  0.0  1.0      0  \n",
       "1 -0.108044 -0.548141 -0.477670 -0.753473  0.270768  0.0  0.0      0  \n",
       "2  0.628538 -0.157387  1.792099 -0.312051  0.126324  1.0  0.0      0  \n",
       "3  0.696681 -0.970436 -1.302649  1.017095  0.204934  1.0  0.0      0  \n",
       "4  1.836406  0.982945  0.010437  0.600872  0.157287  0.0  1.0      0  "
      ]
     },
     "execution_count": 805,
     "metadata": {},
     "output_type": "execute_result"
    }
   ],
   "source": [
    "pca_chi_df.head()"
   ]
  },
  {
   "cell_type": "code",
   "execution_count": 806,
   "metadata": {},
   "outputs": [],
   "source": [
    "feature_selection['Technique'].append('pca_chi_squre')\n",
    "feature_selection['data'].append(pca_chi_df)"
   ]
  },
  {
   "cell_type": "code",
   "execution_count": 807,
   "metadata": {},
   "outputs": [],
   "source": [
    "feature_selection['Technique'].append('No_fe_sel')\n",
    "feature_selection['data'].append(df)"
   ]
  },
  {
   "cell_type": "code",
   "execution_count": 808,
   "metadata": {},
   "outputs": [],
   "source": [
    "from sklearn.ensemble import RandomForestClassifier"
   ]
  },
  {
   "cell_type": "code",
   "execution_count": 809,
   "metadata": {},
   "outputs": [],
   "source": [
    "X = df.drop(['churn'], axis=1)\n",
    "y = df['churn']"
   ]
  },
  {
   "cell_type": "code",
   "execution_count": 810,
   "metadata": {},
   "outputs": [
    {
     "data": {
      "text/html": [
       "<style>#sk-container-id-14 {color: black;}#sk-container-id-14 pre{padding: 0;}#sk-container-id-14 div.sk-toggleable {background-color: white;}#sk-container-id-14 label.sk-toggleable__label {cursor: pointer;display: block;width: 100%;margin-bottom: 0;padding: 0.3em;box-sizing: border-box;text-align: center;}#sk-container-id-14 label.sk-toggleable__label-arrow:before {content: \"▸\";float: left;margin-right: 0.25em;color: #696969;}#sk-container-id-14 label.sk-toggleable__label-arrow:hover:before {color: black;}#sk-container-id-14 div.sk-estimator:hover label.sk-toggleable__label-arrow:before {color: black;}#sk-container-id-14 div.sk-toggleable__content {max-height: 0;max-width: 0;overflow: hidden;text-align: left;background-color: #f0f8ff;}#sk-container-id-14 div.sk-toggleable__content pre {margin: 0.2em;color: black;border-radius: 0.25em;background-color: #f0f8ff;}#sk-container-id-14 input.sk-toggleable__control:checked~div.sk-toggleable__content {max-height: 200px;max-width: 100%;overflow: auto;}#sk-container-id-14 input.sk-toggleable__control:checked~label.sk-toggleable__label-arrow:before {content: \"▾\";}#sk-container-id-14 div.sk-estimator input.sk-toggleable__control:checked~label.sk-toggleable__label {background-color: #d4ebff;}#sk-container-id-14 div.sk-label input.sk-toggleable__control:checked~label.sk-toggleable__label {background-color: #d4ebff;}#sk-container-id-14 input.sk-hidden--visually {border: 0;clip: rect(1px 1px 1px 1px);clip: rect(1px, 1px, 1px, 1px);height: 1px;margin: -1px;overflow: hidden;padding: 0;position: absolute;width: 1px;}#sk-container-id-14 div.sk-estimator {font-family: monospace;background-color: #f0f8ff;border: 1px dotted black;border-radius: 0.25em;box-sizing: border-box;margin-bottom: 0.5em;}#sk-container-id-14 div.sk-estimator:hover {background-color: #d4ebff;}#sk-container-id-14 div.sk-parallel-item::after {content: \"\";width: 100%;border-bottom: 1px solid gray;flex-grow: 1;}#sk-container-id-14 div.sk-label:hover label.sk-toggleable__label {background-color: #d4ebff;}#sk-container-id-14 div.sk-serial::before {content: \"\";position: absolute;border-left: 1px solid gray;box-sizing: border-box;top: 0;bottom: 0;left: 50%;z-index: 0;}#sk-container-id-14 div.sk-serial {display: flex;flex-direction: column;align-items: center;background-color: white;padding-right: 0.2em;padding-left: 0.2em;position: relative;}#sk-container-id-14 div.sk-item {position: relative;z-index: 1;}#sk-container-id-14 div.sk-parallel {display: flex;align-items: stretch;justify-content: center;background-color: white;position: relative;}#sk-container-id-14 div.sk-item::before, #sk-container-id-14 div.sk-parallel-item::before {content: \"\";position: absolute;border-left: 1px solid gray;box-sizing: border-box;top: 0;bottom: 0;left: 50%;z-index: -1;}#sk-container-id-14 div.sk-parallel-item {display: flex;flex-direction: column;z-index: 1;position: relative;background-color: white;}#sk-container-id-14 div.sk-parallel-item:first-child::after {align-self: flex-end;width: 50%;}#sk-container-id-14 div.sk-parallel-item:last-child::after {align-self: flex-start;width: 50%;}#sk-container-id-14 div.sk-parallel-item:only-child::after {width: 0;}#sk-container-id-14 div.sk-dashed-wrapped {border: 1px dashed gray;margin: 0 0.4em 0.5em 0.4em;box-sizing: border-box;padding-bottom: 0.4em;background-color: white;}#sk-container-id-14 div.sk-label label {font-family: monospace;font-weight: bold;display: inline-block;line-height: 1.2em;}#sk-container-id-14 div.sk-label-container {text-align: center;}#sk-container-id-14 div.sk-container {/* jupyter's `normalize.less` sets `[hidden] { display: none; }` but bootstrap.min.css set `[hidden] { display: none !important; }` so we also need the `!important` here to be able to override the default hidden behavior on the sphinx rendered scikit-learn.org. See: https://github.com/scikit-learn/scikit-learn/issues/21755 */display: inline-block !important;position: relative;}#sk-container-id-14 div.sk-text-repr-fallback {display: none;}</style><div id=\"sk-container-id-14\" class=\"sk-top-container\"><div class=\"sk-text-repr-fallback\"><pre>RandomForestClassifier()</pre><b>In a Jupyter environment, please rerun this cell to show the HTML representation or trust the notebook. <br />On GitHub, the HTML representation is unable to render, please try loading this page with nbviewer.org.</b></div><div class=\"sk-container\" hidden><div class=\"sk-item\"><div class=\"sk-estimator sk-toggleable\"><input class=\"sk-toggleable__control sk-hidden--visually\" id=\"sk-estimator-id-14\" type=\"checkbox\" checked><label for=\"sk-estimator-id-14\" class=\"sk-toggleable__label sk-toggleable__label-arrow\">RandomForestClassifier</label><div class=\"sk-toggleable__content\"><pre>RandomForestClassifier()</pre></div></div></div></div></div>"
      ],
      "text/plain": [
       "RandomForestClassifier()"
      ]
     },
     "execution_count": 810,
     "metadata": {},
     "output_type": "execute_result"
    }
   ],
   "source": [
    "model = RandomForestClassifier()\n",
    "\n",
    "model.fit(X, y)"
   ]
  },
  {
   "cell_type": "code",
   "execution_count": 811,
   "metadata": {},
   "outputs": [
    {
     "data": {
      "text/plain": [
       "array([0.03342482, 0.0265808 , 0.00823508, 0.07840573, 0.02183314,\n",
       "       0.0282956 , 0.13982798, 0.02815837, 0.14594871, 0.06035129,\n",
       "       0.02461514, 0.06253066, 0.0370474 , 0.02579453, 0.03657154,\n",
       "       0.03965693, 0.05013944, 0.03881999, 0.11376285])"
      ]
     },
     "execution_count": 811,
     "metadata": {},
     "output_type": "execute_result"
    }
   ],
   "source": [
    "model.feature_importances_"
   ]
  },
  {
   "cell_type": "code",
   "execution_count": 812,
   "metadata": {},
   "outputs": [],
   "source": [
    "feature_importance = {\n",
    "    'Features' : X.columns,\n",
    "    'Importance' : model.feature_importances_ * 100\n",
    "}"
   ]
  },
  {
   "cell_type": "code",
   "execution_count": 813,
   "metadata": {},
   "outputs": [
    {
     "data": {
      "text/html": [
       "<div>\n",
       "<style scoped>\n",
       "    .dataframe tbody tr th:only-of-type {\n",
       "        vertical-align: middle;\n",
       "    }\n",
       "\n",
       "    .dataframe tbody tr th {\n",
       "        vertical-align: top;\n",
       "    }\n",
       "\n",
       "    .dataframe thead th {\n",
       "        text-align: right;\n",
       "    }\n",
       "</style>\n",
       "<table border=\"1\" class=\"dataframe\">\n",
       "  <thead>\n",
       "    <tr style=\"text-align: right;\">\n",
       "      <th></th>\n",
       "      <th>Features</th>\n",
       "      <th>Importance</th>\n",
       "    </tr>\n",
       "  </thead>\n",
       "  <tbody>\n",
       "    <tr>\n",
       "      <th>8</th>\n",
       "      <td>total_day_charge</td>\n",
       "      <td>14.594871</td>\n",
       "    </tr>\n",
       "    <tr>\n",
       "      <th>6</th>\n",
       "      <td>total_day_minutes</td>\n",
       "      <td>13.982798</td>\n",
       "    </tr>\n",
       "    <tr>\n",
       "      <th>18</th>\n",
       "      <td>number_customer_service_calls</td>\n",
       "      <td>11.376285</td>\n",
       "    </tr>\n",
       "    <tr>\n",
       "      <th>3</th>\n",
       "      <td>international_plan</td>\n",
       "      <td>7.840573</td>\n",
       "    </tr>\n",
       "    <tr>\n",
       "      <th>11</th>\n",
       "      <td>total_eve_charge</td>\n",
       "      <td>6.253066</td>\n",
       "    </tr>\n",
       "    <tr>\n",
       "      <th>9</th>\n",
       "      <td>total_eve_minutes</td>\n",
       "      <td>6.035129</td>\n",
       "    </tr>\n",
       "    <tr>\n",
       "      <th>16</th>\n",
       "      <td>total_intl_calls</td>\n",
       "      <td>5.013944</td>\n",
       "    </tr>\n",
       "    <tr>\n",
       "      <th>15</th>\n",
       "      <td>total_intl_minutes</td>\n",
       "      <td>3.965693</td>\n",
       "    </tr>\n",
       "    <tr>\n",
       "      <th>17</th>\n",
       "      <td>total_intl_charge</td>\n",
       "      <td>3.881999</td>\n",
       "    </tr>\n",
       "    <tr>\n",
       "      <th>12</th>\n",
       "      <td>total_night_minutes</td>\n",
       "      <td>3.704740</td>\n",
       "    </tr>\n",
       "    <tr>\n",
       "      <th>14</th>\n",
       "      <td>total_night_charge</td>\n",
       "      <td>3.657154</td>\n",
       "    </tr>\n",
       "    <tr>\n",
       "      <th>0</th>\n",
       "      <td>state</td>\n",
       "      <td>3.342482</td>\n",
       "    </tr>\n",
       "    <tr>\n",
       "      <th>5</th>\n",
       "      <td>number_vmail_messages</td>\n",
       "      <td>2.829560</td>\n",
       "    </tr>\n",
       "    <tr>\n",
       "      <th>7</th>\n",
       "      <td>total_day_calls</td>\n",
       "      <td>2.815837</td>\n",
       "    </tr>\n",
       "    <tr>\n",
       "      <th>1</th>\n",
       "      <td>account_length</td>\n",
       "      <td>2.658080</td>\n",
       "    </tr>\n",
       "    <tr>\n",
       "      <th>13</th>\n",
       "      <td>total_night_calls</td>\n",
       "      <td>2.579453</td>\n",
       "    </tr>\n",
       "    <tr>\n",
       "      <th>10</th>\n",
       "      <td>total_eve_calls</td>\n",
       "      <td>2.461514</td>\n",
       "    </tr>\n",
       "    <tr>\n",
       "      <th>4</th>\n",
       "      <td>voice_mail_plan</td>\n",
       "      <td>2.183314</td>\n",
       "    </tr>\n",
       "    <tr>\n",
       "      <th>2</th>\n",
       "      <td>area_code</td>\n",
       "      <td>0.823508</td>\n",
       "    </tr>\n",
       "  </tbody>\n",
       "</table>\n",
       "</div>"
      ],
      "text/plain": [
       "                         Features  Importance\n",
       "8                total_day_charge   14.594871\n",
       "6               total_day_minutes   13.982798\n",
       "18  number_customer_service_calls   11.376285\n",
       "3              international_plan    7.840573\n",
       "11               total_eve_charge    6.253066\n",
       "9               total_eve_minutes    6.035129\n",
       "16               total_intl_calls    5.013944\n",
       "15             total_intl_minutes    3.965693\n",
       "17              total_intl_charge    3.881999\n",
       "12            total_night_minutes    3.704740\n",
       "14             total_night_charge    3.657154\n",
       "0                           state    3.342482\n",
       "5           number_vmail_messages    2.829560\n",
       "7                 total_day_calls    2.815837\n",
       "1                  account_length    2.658080\n",
       "13              total_night_calls    2.579453\n",
       "10                total_eve_calls    2.461514\n",
       "4                 voice_mail_plan    2.183314\n",
       "2                       area_code    0.823508"
      ]
     },
     "execution_count": 813,
     "metadata": {},
     "output_type": "execute_result"
    }
   ],
   "source": [
    "imp_df = pd.DataFrame(data=feature_importance)\n",
    "imp_df = imp_df.sort_values(ascending=False, by='Importance')\n",
    "\n",
    "imp_df"
   ]
  },
  {
   "cell_type": "code",
   "execution_count": 814,
   "metadata": {},
   "outputs": [
    {
     "data": {
      "image/png": "[encoded data removed]",
      "text/plain": [
       "<Figure size 640x480 with 1 Axes>"
      ]
     },
     "metadata": {},
     "output_type": "display_data"
    }
   ],
   "source": [
    "# imp_df.sort_values(ascending=False, by='Importance').plot.bar()\n",
    "\n",
    "ax = sns.barplot(data=imp_df, x='Importance', y='Features', palette='rocket')\n",
    "\n",
    "for i in ax.containers:\n",
    "    ax.bar_label(i,)\n",
    "\n",
    "plt.show()"
   ]
  },
  {
   "cell_type": "markdown",
   "metadata": {},
   "source": [
    "<p1>We will set a threshold of '2.5'. we will drop features with importance less that '2.5'</p1>"
   ]
  },
  {
   "cell_type": "code",
   "execution_count": 815,
   "metadata": {},
   "outputs": [],
   "source": [
    "selected_features = list(imp_df['Features'][imp_df['Importance'] > 2.5])"
   ]
  },
  {
   "cell_type": "code",
   "execution_count": 816,
   "metadata": {},
   "outputs": [
    {
     "data": {
      "text/html": [
       "<div>\n",
       "<style scoped>\n",
       "    .dataframe tbody tr th:only-of-type {\n",
       "        vertical-align: middle;\n",
       "    }\n",
       "\n",
       "    .dataframe tbody tr th {\n",
       "        vertical-align: top;\n",
       "    }\n",
       "\n",
       "    .dataframe thead th {\n",
       "        text-align: right;\n",
       "    }\n",
       "</style>\n",
       "<table border=\"1\" class=\"dataframe\">\n",
       "  <thead>\n",
       "    <tr style=\"text-align: right;\">\n",
       "      <th></th>\n",
       "      <th>total_day_charge</th>\n",
       "      <th>total_day_minutes</th>\n",
       "      <th>number_customer_service_calls</th>\n",
       "      <th>international_plan</th>\n",
       "      <th>total_eve_charge</th>\n",
       "      <th>total_eve_minutes</th>\n",
       "      <th>total_intl_calls</th>\n",
       "      <th>total_intl_minutes</th>\n",
       "      <th>total_intl_charge</th>\n",
       "      <th>total_night_minutes</th>\n",
       "      <th>total_night_charge</th>\n",
       "      <th>state</th>\n",
       "      <th>number_vmail_messages</th>\n",
       "      <th>total_day_calls</th>\n",
       "      <th>account_length</th>\n",
       "      <th>total_night_calls</th>\n",
       "      <th>churn</th>\n",
       "    </tr>\n",
       "  </thead>\n",
       "  <tbody>\n",
       "    <tr>\n",
       "      <th>0</th>\n",
       "      <td>27.47</td>\n",
       "      <td>161.6</td>\n",
       "      <td>1</td>\n",
       "      <td>0</td>\n",
       "      <td>16.62</td>\n",
       "      <td>195.5</td>\n",
       "      <td>3</td>\n",
       "      <td>13.7</td>\n",
       "      <td>3.70</td>\n",
       "      <td>254.4</td>\n",
       "      <td>11.45</td>\n",
       "      <td>0.126324</td>\n",
       "      <td>26</td>\n",
       "      <td>123</td>\n",
       "      <td>107</td>\n",
       "      <td>103</td>\n",
       "      <td>0</td>\n",
       "    </tr>\n",
       "    <tr>\n",
       "      <th>1</th>\n",
       "      <td>41.38</td>\n",
       "      <td>243.4</td>\n",
       "      <td>0</td>\n",
       "      <td>0</td>\n",
       "      <td>10.30</td>\n",
       "      <td>121.2</td>\n",
       "      <td>5</td>\n",
       "      <td>12.2</td>\n",
       "      <td>3.29</td>\n",
       "      <td>162.6</td>\n",
       "      <td>7.32</td>\n",
       "      <td>0.270768</td>\n",
       "      <td>0</td>\n",
       "      <td>114</td>\n",
       "      <td>137</td>\n",
       "      <td>104</td>\n",
       "      <td>0</td>\n",
       "    </tr>\n",
       "    <tr>\n",
       "      <th>2</th>\n",
       "      <td>50.90</td>\n",
       "      <td>299.4</td>\n",
       "      <td>2</td>\n",
       "      <td>1</td>\n",
       "      <td>5.26</td>\n",
       "      <td>61.9</td>\n",
       "      <td>7</td>\n",
       "      <td>6.6</td>\n",
       "      <td>1.78</td>\n",
       "      <td>196.9</td>\n",
       "      <td>8.86</td>\n",
       "      <td>0.126324</td>\n",
       "      <td>0</td>\n",
       "      <td>71</td>\n",
       "      <td>84</td>\n",
       "      <td>89</td>\n",
       "      <td>0</td>\n",
       "    </tr>\n",
       "    <tr>\n",
       "      <th>3</th>\n",
       "      <td>28.34</td>\n",
       "      <td>166.7</td>\n",
       "      <td>3</td>\n",
       "      <td>1</td>\n",
       "      <td>12.61</td>\n",
       "      <td>148.3</td>\n",
       "      <td>3</td>\n",
       "      <td>10.1</td>\n",
       "      <td>2.73</td>\n",
       "      <td>186.9</td>\n",
       "      <td>8.41</td>\n",
       "      <td>0.204934</td>\n",
       "      <td>0</td>\n",
       "      <td>113</td>\n",
       "      <td>75</td>\n",
       "      <td>121</td>\n",
       "      <td>0</td>\n",
       "    </tr>\n",
       "    <tr>\n",
       "      <th>4</th>\n",
       "      <td>37.09</td>\n",
       "      <td>218.2</td>\n",
       "      <td>3</td>\n",
       "      <td>0</td>\n",
       "      <td>29.62</td>\n",
       "      <td>348.5</td>\n",
       "      <td>7</td>\n",
       "      <td>7.5</td>\n",
       "      <td>2.03</td>\n",
       "      <td>212.6</td>\n",
       "      <td>9.57</td>\n",
       "      <td>0.157287</td>\n",
       "      <td>24</td>\n",
       "      <td>88</td>\n",
       "      <td>121</td>\n",
       "      <td>118</td>\n",
       "      <td>0</td>\n",
       "    </tr>\n",
       "  </tbody>\n",
       "</table>\n",
       "</div>"
      ],
      "text/plain": [
       "   total_day_charge  total_day_minutes  number_customer_service_calls  \\\n",
       "0             27.47              161.6                              1   \n",
       "1             41.38              243.4                              0   \n",
       "2             50.90              299.4                              2   \n",
       "3             28.34              166.7                              3   \n",
       "4             37.09              218.2                              3   \n",
       "\n",
       "   international_plan  total_eve_charge  total_eve_minutes  total_intl_calls  \\\n",
       "0                   0             16.62              195.5                 3   \n",
       "1                   0             10.30              121.2                 5   \n",
       "2                   1              5.26               61.9                 7   \n",
       "3                   1             12.61              148.3                 3   \n",
       "4                   0             29.62              348.5                 7   \n",
       "\n",
       "   total_intl_minutes  total_intl_charge  total_night_minutes  \\\n",
       "0                13.7               3.70                254.4   \n",
       "1                12.2               3.29                162.6   \n",
       "2                 6.6               1.78                196.9   \n",
       "3                10.1               2.73                186.9   \n",
       "4                 7.5               2.03                212.6   \n",
       "\n",
       "   total_night_charge     state  number_vmail_messages  total_day_calls  \\\n",
       "0               11.45  0.126324                     26              123   \n",
       "1                7.32  0.270768                      0              114   \n",
       "2                8.86  0.126324                      0               71   \n",
       "3                8.41  0.204934                      0              113   \n",
       "4                9.57  0.157287                     24               88   \n",
       "\n",
       "   account_length  total_night_calls  churn  \n",
       "0             107                103      0  \n",
       "1             137                104      0  \n",
       "2              84                 89      0  \n",
       "3              75                121      0  \n",
       "4             121                118      0  "
      ]
     },
     "execution_count": 816,
     "metadata": {},
     "output_type": "execute_result"
    }
   ],
   "source": [
    "imp_df = df[selected_features].copy()\n",
    "imp_df['churn'] = df['churn']\n",
    "imp_df.head()"
   ]
  },
  {
   "cell_type": "code",
   "execution_count": 817,
   "metadata": {},
   "outputs": [
    {
     "data": {
      "text/plain": [
       "(4250, 17)"
      ]
     },
     "execution_count": 817,
     "metadata": {},
     "output_type": "execute_result"
    }
   ],
   "source": [
    "imp_df.shape"
   ]
  },
  {
   "cell_type": "code",
   "execution_count": 818,
   "metadata": {},
   "outputs": [],
   "source": [
    "feature_selection['Technique'].append('Rand_imp')\n",
    "feature_selection['data'].append(imp_df)"
   ]
  },
  {
   "cell_type": "code",
   "execution_count": 819,
   "metadata": {},
   "outputs": [],
   "source": [
    "from skfeature.function.similarity_based import fisher_score\n",
    "import matplotlib.pyplot as plt"
   ]
  },
  {
   "cell_type": "code",
   "execution_count": 820,
   "metadata": {},
   "outputs": [],
   "source": [
    "X = np.array(df.drop('churn', axis=1))\n",
    "y = df['churn']"
   ]
  },
  {
   "cell_type": "code",
   "execution_count": 821,
   "metadata": {},
   "outputs": [
    {
     "name": "stderr",
     "output_type": "stream",
     "text": [
      "c:\\Users\\sahil\\AppData\\Local\\Programs\\Python\\Python39\\lib\\site-packages\\skfeature\\utility\\construct_W.py:194: FutureWarning: Support for multi-dimensional indexing (e.g. `obj[:, None]`) is deprecated and will be removed in a future version.  Convert to a numpy array before indexing instead.\n",
      "  class_idx_all = class_idx[:, np.newaxis] & class_idx[np.newaxis, :]\n"
     ]
    },
    {
     "name": "stderr",
     "output_type": "stream",
     "text": [
      "c:\\Users\\sahil\\AppData\\Local\\Programs\\Python\\Python39\\lib\\site-packages\\skfeature\\utility\\construct_W.py:194: FutureWarning: Support for multi-dimensional indexing (e.g. `obj[:, None]`) is deprecated and will be removed in a future version.  Convert to a numpy array before indexing instead.\n",
      "  class_idx_all = class_idx[:, np.newaxis] & class_idx[np.newaxis, :]\n"
     ]
    }
   ],
   "source": [
    "ranks = fisher_score.fisher_score(X, y)\n",
    "feat_imp = pd.Series(ranks, df.columns[0:len(df.columns) - 1])"
   ]
  },
  {
   "cell_type": "code",
   "execution_count": 822,
   "metadata": {},
   "outputs": [
    {
     "data": {
      "text/plain": [
       "Index(['state', 'account_length', 'area_code', 'international_plan',\n",
       "       'voice_mail_plan', 'number_vmail_messages', 'total_day_minutes',\n",
       "       'total_day_calls', 'total_day_charge', 'total_eve_minutes',\n",
       "       'total_eve_calls', 'total_eve_charge', 'total_night_minutes',\n",
       "       'total_night_calls', 'total_night_charge', 'total_intl_minutes',\n",
       "       'total_intl_calls', 'total_intl_charge',\n",
       "       'number_customer_service_calls'],\n",
       "      dtype='object')"
      ]
     },
     "execution_count": 822,
     "metadata": {},
     "output_type": "execute_result"
    }
   ],
   "source": [
    "feat_imp.index"
   ]
  },
  {
   "cell_type": "code",
   "execution_count": 823,
   "metadata": {},
   "outputs": [],
   "source": [
    "feat_dict = {\n",
    "    'Features' : list(),\n",
    "    'Fisher_score' : list(),\n",
    "}"
   ]
  },
  {
   "cell_type": "code",
   "execution_count": 824,
   "metadata": {},
   "outputs": [],
   "source": [
    "feat_dict['Features'] = feat_imp.index\n",
    "feat_dict['Fisher_score'] = feat_imp.values"
   ]
  },
  {
   "cell_type": "code",
   "execution_count": 825,
   "metadata": {},
   "outputs": [
    {
     "data": {
      "text/html": [
       "<div>\n",
       "<style scoped>\n",
       "    .dataframe tbody tr th:only-of-type {\n",
       "        vertical-align: middle;\n",
       "    }\n",
       "\n",
       "    .dataframe tbody tr th {\n",
       "        vertical-align: top;\n",
       "    }\n",
       "\n",
       "    .dataframe thead th {\n",
       "        text-align: right;\n",
       "    }\n",
       "</style>\n",
       "<table border=\"1\" class=\"dataframe\">\n",
       "  <thead>\n",
       "    <tr style=\"text-align: right;\">\n",
       "      <th></th>\n",
       "      <th>Features</th>\n",
       "      <th>Fisher_score</th>\n",
       "    </tr>\n",
       "  </thead>\n",
       "  <tbody>\n",
       "    <tr>\n",
       "      <th>0</th>\n",
       "      <td>state</td>\n",
       "      <td>15</td>\n",
       "    </tr>\n",
       "    <tr>\n",
       "      <th>1</th>\n",
       "      <td>account_length</td>\n",
       "      <td>0</td>\n",
       "    </tr>\n",
       "    <tr>\n",
       "      <th>2</th>\n",
       "      <td>area_code</td>\n",
       "      <td>12</td>\n",
       "    </tr>\n",
       "    <tr>\n",
       "      <th>3</th>\n",
       "      <td>international_plan</td>\n",
       "      <td>10</td>\n",
       "    </tr>\n",
       "    <tr>\n",
       "      <th>4</th>\n",
       "      <td>voice_mail_plan</td>\n",
       "      <td>18</td>\n",
       "    </tr>\n",
       "    <tr>\n",
       "      <th>5</th>\n",
       "      <td>number_vmail_messages</td>\n",
       "      <td>14</td>\n",
       "    </tr>\n",
       "    <tr>\n",
       "      <th>6</th>\n",
       "      <td>total_day_minutes</td>\n",
       "      <td>13</td>\n",
       "    </tr>\n",
       "    <tr>\n",
       "      <th>7</th>\n",
       "      <td>total_day_calls</td>\n",
       "      <td>9</td>\n",
       "    </tr>\n",
       "    <tr>\n",
       "      <th>8</th>\n",
       "      <td>total_day_charge</td>\n",
       "      <td>7</td>\n",
       "    </tr>\n",
       "    <tr>\n",
       "      <th>9</th>\n",
       "      <td>total_eve_minutes</td>\n",
       "      <td>3</td>\n",
       "    </tr>\n",
       "    <tr>\n",
       "      <th>10</th>\n",
       "      <td>total_eve_calls</td>\n",
       "      <td>1</td>\n",
       "    </tr>\n",
       "    <tr>\n",
       "      <th>11</th>\n",
       "      <td>total_eve_charge</td>\n",
       "      <td>6</td>\n",
       "    </tr>\n",
       "    <tr>\n",
       "      <th>12</th>\n",
       "      <td>total_night_minutes</td>\n",
       "      <td>4</td>\n",
       "    </tr>\n",
       "    <tr>\n",
       "      <th>13</th>\n",
       "      <td>total_night_calls</td>\n",
       "      <td>2</td>\n",
       "    </tr>\n",
       "    <tr>\n",
       "      <th>14</th>\n",
       "      <td>total_night_charge</td>\n",
       "      <td>17</td>\n",
       "    </tr>\n",
       "    <tr>\n",
       "      <th>15</th>\n",
       "      <td>total_intl_minutes</td>\n",
       "      <td>5</td>\n",
       "    </tr>\n",
       "    <tr>\n",
       "      <th>16</th>\n",
       "      <td>total_intl_calls</td>\n",
       "      <td>11</td>\n",
       "    </tr>\n",
       "    <tr>\n",
       "      <th>17</th>\n",
       "      <td>total_intl_charge</td>\n",
       "      <td>16</td>\n",
       "    </tr>\n",
       "    <tr>\n",
       "      <th>18</th>\n",
       "      <td>number_customer_service_calls</td>\n",
       "      <td>8</td>\n",
       "    </tr>\n",
       "  </tbody>\n",
       "</table>\n",
       "</div>"
      ],
      "text/plain": [
       "                         Features  Fisher_score\n",
       "0                           state            15\n",
       "1                  account_length             0\n",
       "2                       area_code            12\n",
       "3              international_plan            10\n",
       "4                 voice_mail_plan            18\n",
       "5           number_vmail_messages            14\n",
       "6               total_day_minutes            13\n",
       "7                 total_day_calls             9\n",
       "8                total_day_charge             7\n",
       "9               total_eve_minutes             3\n",
       "10                total_eve_calls             1\n",
       "11               total_eve_charge             6\n",
       "12            total_night_minutes             4\n",
       "13              total_night_calls             2\n",
       "14             total_night_charge            17\n",
       "15             total_intl_minutes             5\n",
       "16               total_intl_calls            11\n",
       "17              total_intl_charge            16\n",
       "18  number_customer_service_calls             8"
      ]
     },
     "execution_count": 825,
     "metadata": {},
     "output_type": "execute_result"
    }
   ],
   "source": [
    "feat_df = pd.DataFrame(data=feat_dict)\n",
    "feat_df"
   ]
  },
  {
   "cell_type": "code",
   "execution_count": 826,
   "metadata": {},
   "outputs": [
    {
     "data": {
      "image/png": "[encoded data removed]",
      "text/plain": [
       "<Figure size 640x480 with 1 Axes>"
      ]
     },
     "metadata": {},
     "output_type": "display_data"
    }
   ],
   "source": [
    "ax = sns.barplot(data=feat_df, x='Fisher_score', y='Features')\n",
    "\n",
    "for i in ax.containers:\n",
    "    ax.bar_label(i,)\n",
    "\n",
    "plt.show()"
   ]
  },
  {
   "cell_type": "markdown",
   "metadata": {},
   "source": [
    "<p1>We will pick top 14 featuers</p1>"
   ]
  },
  {
   "cell_type": "code",
   "execution_count": 827,
   "metadata": {},
   "outputs": [],
   "source": [
    "fisher_df = df[feat_df['Features'][feat_df['Fisher_score'] >= 5]].copy()"
   ]
  },
  {
   "cell_type": "code",
   "execution_count": 828,
   "metadata": {},
   "outputs": [],
   "source": [
    "fisher_df['churn'] = df['churn']"
   ]
  },
  {
   "cell_type": "code",
   "execution_count": 829,
   "metadata": {},
   "outputs": [
    {
     "data": {
      "text/html": [
       "<div>\n",
       "<style scoped>\n",
       "    .dataframe tbody tr th:only-of-type {\n",
       "        vertical-align: middle;\n",
       "    }\n",
       "\n",
       "    .dataframe tbody tr th {\n",
       "        vertical-align: top;\n",
       "    }\n",
       "\n",
       "    .dataframe thead th {\n",
       "        text-align: right;\n",
       "    }\n",
       "</style>\n",
       "<table border=\"1\" class=\"dataframe\">\n",
       "  <thead>\n",
       "    <tr style=\"text-align: right;\">\n",
       "      <th></th>\n",
       "      <th>state</th>\n",
       "      <th>area_code</th>\n",
       "      <th>international_plan</th>\n",
       "      <th>voice_mail_plan</th>\n",
       "      <th>number_vmail_messages</th>\n",
       "      <th>total_day_minutes</th>\n",
       "      <th>total_day_calls</th>\n",
       "      <th>total_day_charge</th>\n",
       "      <th>total_eve_charge</th>\n",
       "      <th>total_night_charge</th>\n",
       "      <th>total_intl_minutes</th>\n",
       "      <th>total_intl_calls</th>\n",
       "      <th>total_intl_charge</th>\n",
       "      <th>number_customer_service_calls</th>\n",
       "      <th>churn</th>\n",
       "    </tr>\n",
       "  </thead>\n",
       "  <tbody>\n",
       "    <tr>\n",
       "      <th>0</th>\n",
       "      <td>0.126324</td>\n",
       "      <td>1</td>\n",
       "      <td>0</td>\n",
       "      <td>1</td>\n",
       "      <td>26</td>\n",
       "      <td>161.6</td>\n",
       "      <td>123</td>\n",
       "      <td>27.47</td>\n",
       "      <td>16.62</td>\n",
       "      <td>11.45</td>\n",
       "      <td>13.7</td>\n",
       "      <td>3</td>\n",
       "      <td>3.70</td>\n",
       "      <td>1</td>\n",
       "      <td>0</td>\n",
       "    </tr>\n",
       "    <tr>\n",
       "      <th>1</th>\n",
       "      <td>0.270768</td>\n",
       "      <td>1</td>\n",
       "      <td>0</td>\n",
       "      <td>0</td>\n",
       "      <td>0</td>\n",
       "      <td>243.4</td>\n",
       "      <td>114</td>\n",
       "      <td>41.38</td>\n",
       "      <td>10.30</td>\n",
       "      <td>7.32</td>\n",
       "      <td>12.2</td>\n",
       "      <td>5</td>\n",
       "      <td>3.29</td>\n",
       "      <td>0</td>\n",
       "      <td>0</td>\n",
       "    </tr>\n",
       "    <tr>\n",
       "      <th>2</th>\n",
       "      <td>0.126324</td>\n",
       "      <td>0</td>\n",
       "      <td>1</td>\n",
       "      <td>0</td>\n",
       "      <td>0</td>\n",
       "      <td>299.4</td>\n",
       "      <td>71</td>\n",
       "      <td>50.90</td>\n",
       "      <td>5.26</td>\n",
       "      <td>8.86</td>\n",
       "      <td>6.6</td>\n",
       "      <td>7</td>\n",
       "      <td>1.78</td>\n",
       "      <td>2</td>\n",
       "      <td>0</td>\n",
       "    </tr>\n",
       "    <tr>\n",
       "      <th>3</th>\n",
       "      <td>0.204934</td>\n",
       "      <td>1</td>\n",
       "      <td>1</td>\n",
       "      <td>0</td>\n",
       "      <td>0</td>\n",
       "      <td>166.7</td>\n",
       "      <td>113</td>\n",
       "      <td>28.34</td>\n",
       "      <td>12.61</td>\n",
       "      <td>8.41</td>\n",
       "      <td>10.1</td>\n",
       "      <td>3</td>\n",
       "      <td>2.73</td>\n",
       "      <td>3</td>\n",
       "      <td>0</td>\n",
       "    </tr>\n",
       "    <tr>\n",
       "      <th>4</th>\n",
       "      <td>0.157287</td>\n",
       "      <td>2</td>\n",
       "      <td>0</td>\n",
       "      <td>1</td>\n",
       "      <td>24</td>\n",
       "      <td>218.2</td>\n",
       "      <td>88</td>\n",
       "      <td>37.09</td>\n",
       "      <td>29.62</td>\n",
       "      <td>9.57</td>\n",
       "      <td>7.5</td>\n",
       "      <td>7</td>\n",
       "      <td>2.03</td>\n",
       "      <td>3</td>\n",
       "      <td>0</td>\n",
       "    </tr>\n",
       "  </tbody>\n",
       "</table>\n",
       "</div>"
      ],
      "text/plain": [
       "      state  area_code  international_plan  voice_mail_plan  \\\n",
       "0  0.126324          1                   0                1   \n",
       "1  0.270768          1                   0                0   \n",
       "2  0.126324          0                   1                0   \n",
       "3  0.204934          1                   1                0   \n",
       "4  0.157287          2                   0                1   \n",
       "\n",
       "   number_vmail_messages  total_day_minutes  total_day_calls  \\\n",
       "0                     26              161.6              123   \n",
       "1                      0              243.4              114   \n",
       "2                      0              299.4               71   \n",
       "3                      0              166.7              113   \n",
       "4                     24              218.2               88   \n",
       "\n",
       "   total_day_charge  total_eve_charge  total_night_charge  total_intl_minutes  \\\n",
       "0             27.47             16.62               11.45                13.7   \n",
       "1             41.38             10.30                7.32                12.2   \n",
       "2             50.90              5.26                8.86                 6.6   \n",
       "3             28.34             12.61                8.41                10.1   \n",
       "4             37.09             29.62                9.57                 7.5   \n",
       "\n",
       "   total_intl_calls  total_intl_charge  number_customer_service_calls  churn  \n",
       "0                 3               3.70                              1      0  \n",
       "1                 5               3.29                              0      0  \n",
       "2                 7               1.78                              2      0  \n",
       "3                 3               2.73                              3      0  \n",
       "4                 7               2.03                              3      0  "
      ]
     },
     "execution_count": 829,
     "metadata": {},
     "output_type": "execute_result"
    }
   ],
   "source": [
    "fisher_df.head()"
   ]
  },
  {
   "cell_type": "code",
   "execution_count": 830,
   "metadata": {},
   "outputs": [],
   "source": [
    "feature_selection['Technique'].append('Fisher_score')\n",
    "feature_selection['data'].append(fisher_df)"
   ]
  },
  {
   "cell_type": "code",
   "execution_count": 831,
   "metadata": {},
   "outputs": [],
   "source": [
    "from sklearn.ensemble import RandomForestClassifier\n",
    "from sklearn.ensemble import GradientBoostingClassifier\n",
    "from xgboost import XGBClassifier\n",
    "from sklearn.model_selection import train_test_split\n",
    "from sklearn.metrics import f1_score, recall_score, precision_score"
   ]
  },
  {
   "cell_type": "code",
   "execution_count": 832,
   "metadata": {},
   "outputs": [],
   "source": [
    "models = {\n",
    "    'Random_forest' : RandomForestClassifier(),\n",
    "    'Gradient_boost' : GradientBoostingClassifier(),\n",
    "    'xgb' : XGBClassifier()\n",
    "}"
   ]
  },
  {
   "cell_type": "code",
   "execution_count": 833,
   "metadata": {},
   "outputs": [],
   "source": [
    "perform_dict = {\n",
    "    'Model' : list(),\n",
    "    'Technique' : list(),\n",
    "    'F1_score' : list(),\n",
    "    'recall_score' : list(),\n",
    "    'precision_score' : list()\n",
    "}"
   ]
  },
  {
   "cell_type": "code",
   "execution_count": 834,
   "metadata": {},
   "outputs": [
    {
     "data": {
      "text/plain": [
       "['pca_chi_squre', 'No_fe_sel', 'Rand_imp', 'Fisher_score']"
      ]
     },
     "execution_count": 834,
     "metadata": {},
     "output_type": "execute_result"
    }
   ],
   "source": [
    "list(feature_selection.values())[0]"
   ]
  },
  {
   "cell_type": "code",
   "execution_count": 835,
   "metadata": {},
   "outputs": [],
   "source": [
    "for model_name, model in zip(list(models.keys()), list(models.values())):\n",
    "\n",
    "    for technique, data in zip(list(feature_selection.values())[0], list(feature_selection.values())[1]):\n",
    "\n",
    "        X = data.drop('churn', axis=1)\n",
    "        y = data['churn']\n",
    "\n",
    "        X_train, X_test, y_train, y_test = train_test_split(X, y, test_size=0.3, random_state=15)\n",
    "\n",
    "        model.fit(X_train, y_train)\n",
    "        y_pred = model.predict(X_test)\n",
    "\n",
    "        perform_dict['Model'].append(model_name)\n",
    "        perform_dict['Technique'].append(technique)\n",
    "        perform_dict['F1_score'].append(f1_score(y_test, y_pred) * 100)\n",
    "        perform_dict['precision_score'].append(precision_score(y_test, y_pred) * 100)\n",
    "        perform_dict['recall_score'].append(recall_score(y_test, y_pred) * 100)\n"
   ]
  },
  {
   "cell_type": "code",
   "execution_count": 836,
   "metadata": {},
   "outputs": [],
   "source": [
    "perform_df = pd.DataFrame(data=perform_dict)"
   ]
  },
  {
   "cell_type": "code",
   "execution_count": 837,
   "metadata": {},
   "outputs": [
    {
     "data": {
      "text/html": [
       "<div>\n",
       "<style scoped>\n",
       "    .dataframe tbody tr th:only-of-type {\n",
       "        vertical-align: middle;\n",
       "    }\n",
       "\n",
       "    .dataframe tbody tr th {\n",
       "        vertical-align: top;\n",
       "    }\n",
       "\n",
       "    .dataframe thead th {\n",
       "        text-align: right;\n",
       "    }\n",
       "</style>\n",
       "<table border=\"1\" class=\"dataframe\">\n",
       "  <thead>\n",
       "    <tr style=\"text-align: right;\">\n",
       "      <th></th>\n",
       "      <th>Model</th>\n",
       "      <th>Technique</th>\n",
       "      <th>F1_score</th>\n",
       "      <th>recall_score</th>\n",
       "      <th>precision_score</th>\n",
       "    </tr>\n",
       "  </thead>\n",
       "  <tbody>\n",
       "    <tr>\n",
       "      <th>0</th>\n",
       "      <td>Random_forest</td>\n",
       "      <td>pca_chi_squre</td>\n",
       "      <td>45.421245</td>\n",
       "      <td>31.155779</td>\n",
       "      <td>83.783784</td>\n",
       "    </tr>\n",
       "    <tr>\n",
       "      <th>1</th>\n",
       "      <td>Random_forest</td>\n",
       "      <td>No_fe_sel</td>\n",
       "      <td>83.760684</td>\n",
       "      <td>73.869347</td>\n",
       "      <td>96.710526</td>\n",
       "    </tr>\n",
       "    <tr>\n",
       "      <th>2</th>\n",
       "      <td>Random_forest</td>\n",
       "      <td>Rand_imp</td>\n",
       "      <td>83.760684</td>\n",
       "      <td>73.869347</td>\n",
       "      <td>96.710526</td>\n",
       "    </tr>\n",
       "    <tr>\n",
       "      <th>3</th>\n",
       "      <td>Random_forest</td>\n",
       "      <td>Fisher_score</td>\n",
       "      <td>80.229226</td>\n",
       "      <td>70.351759</td>\n",
       "      <td>93.333333</td>\n",
       "    </tr>\n",
       "    <tr>\n",
       "      <th>4</th>\n",
       "      <td>Gradient_boost</td>\n",
       "      <td>pca_chi_squre</td>\n",
       "      <td>53.424658</td>\n",
       "      <td>39.195980</td>\n",
       "      <td>83.870968</td>\n",
       "    </tr>\n",
       "    <tr>\n",
       "      <th>5</th>\n",
       "      <td>Gradient_boost</td>\n",
       "      <td>No_fe_sel</td>\n",
       "      <td>82.253521</td>\n",
       "      <td>73.366834</td>\n",
       "      <td>93.589744</td>\n",
       "    </tr>\n",
       "    <tr>\n",
       "      <th>6</th>\n",
       "      <td>Gradient_boost</td>\n",
       "      <td>Rand_imp</td>\n",
       "      <td>82.352941</td>\n",
       "      <td>73.869347</td>\n",
       "      <td>93.037975</td>\n",
       "    </tr>\n",
       "    <tr>\n",
       "      <th>7</th>\n",
       "      <td>Gradient_boost</td>\n",
       "      <td>Fisher_score</td>\n",
       "      <td>80.341880</td>\n",
       "      <td>70.854271</td>\n",
       "      <td>92.763158</td>\n",
       "    </tr>\n",
       "    <tr>\n",
       "      <th>8</th>\n",
       "      <td>xgb</td>\n",
       "      <td>pca_chi_squre</td>\n",
       "      <td>62.500000</td>\n",
       "      <td>50.251256</td>\n",
       "      <td>82.644628</td>\n",
       "    </tr>\n",
       "    <tr>\n",
       "      <th>9</th>\n",
       "      <td>xgb</td>\n",
       "      <td>No_fe_sel</td>\n",
       "      <td>81.481481</td>\n",
       "      <td>71.859296</td>\n",
       "      <td>94.078947</td>\n",
       "    </tr>\n",
       "    <tr>\n",
       "      <th>10</th>\n",
       "      <td>xgb</td>\n",
       "      <td>Rand_imp</td>\n",
       "      <td>83.008357</td>\n",
       "      <td>74.874372</td>\n",
       "      <td>93.125000</td>\n",
       "    </tr>\n",
       "    <tr>\n",
       "      <th>11</th>\n",
       "      <td>xgb</td>\n",
       "      <td>Fisher_score</td>\n",
       "      <td>84.033613</td>\n",
       "      <td>75.376884</td>\n",
       "      <td>94.936709</td>\n",
       "    </tr>\n",
       "  </tbody>\n",
       "</table>\n",
       "</div>"
      ],
      "text/plain": [
       "             Model      Technique   F1_score  recall_score  precision_score\n",
       "0    Random_forest  pca_chi_squre  45.421245     31.155779        83.783784\n",
       "1    Random_forest      No_fe_sel  83.760684     73.869347        96.710526\n",
       "2    Random_forest       Rand_imp  83.760684     73.869347        96.710526\n",
       "3    Random_forest   Fisher_score  80.229226     70.351759        93.333333\n",
       "4   Gradient_boost  pca_chi_squre  53.424658     39.195980        83.870968\n",
       "5   Gradient_boost      No_fe_sel  82.253521     73.366834        93.589744\n",
       "6   Gradient_boost       Rand_imp  82.352941     73.869347        93.037975\n",
       "7   Gradient_boost   Fisher_score  80.341880     70.854271        92.763158\n",
       "8              xgb  pca_chi_squre  62.500000     50.251256        82.644628\n",
       "9              xgb      No_fe_sel  81.481481     71.859296        94.078947\n",
       "10             xgb       Rand_imp  83.008357     74.874372        93.125000\n",
       "11             xgb   Fisher_score  84.033613     75.376884        94.936709"
      ]
     },
     "execution_count": 837,
     "metadata": {},
     "output_type": "execute_result"
    }
   ],
   "source": [
    "perform_df"
   ]
  },
  {
   "cell_type": "code",
   "execution_count": null,
   "metadata": {},
   "outputs": [],
   "source": []
  },
  {
   "cell_type": "code",
   "execution_count": null,
   "metadata": {},
   "outputs": [],
   "source": []
  },
  {
   "cell_type": "code",
   "execution_count": null,
   "metadata": {},
   "outputs": [],
   "source": []
  }
 ],
 "metadata": {
  "kernelspec": {
   "display_name": "Python 3",
   "language": "python",
   "name": "python3"
  },
  "language_info": {
   "codemirror_mode": {
    "name": "ipython",
    "version": 3
   },
   "file_extension": ".py",
   "mimetype": "text/x-python",
   "name": "python",
   "nbconvert_exporter": "python",
   "pygments_lexer": "ipython3",
   "version": "3.9.1"
  }
 },
 "nbformat": 4,
 "nbformat_minor": 2
}
